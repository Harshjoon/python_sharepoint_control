{
 "cells": [
  {
   "cell_type": "code",
   "execution_count": 2,
   "id": "785fdddd",
   "metadata": {},
   "outputs": [],
   "source": [
    "from office365.runtime.auth.client_credential import ClientCredential\n",
    "from office365.sharepoint.client_context import ClientCredential\n",
    "\n",
    "from office365.runtime.auth.user_credential import UserCredential\n",
    "from office365.sharepoint.client_context import ClientContext\n",
    "import os\n",
    "from office365.runtime.auth.authentication_context import AuthenticationContext\n",
    "from office365.sharepoint.client_context import ClientContext"
   ]
  },
  {
   "cell_type": "code",
   "execution_count": 5,
   "id": "d8c8fce6",
   "metadata": {},
   "outputs": [],
   "source": [
    "user_credentials = UserCredential('harsh.joon@ssinnovations.org', pass_)"
   ]
  },
  {
   "cell_type": "code",
   "execution_count": 7,
   "id": "b7b43c69",
   "metadata": {},
   "outputs": [],
   "source": [
    "#siteurl = 'https://ssipvtltd.sharepoint.com/sites/SSiFilesSharingPortal/SitePages/SSi-Share-Point-Home.aspx'\n",
    "siteurl = 'https://ssipvtltd.sharepoint.com'"
   ]
  },
  {
   "cell_type": "code",
   "execution_count": 12,
   "id": "d7248f0a",
   "metadata": {},
   "outputs": [],
   "source": [
    "ctx = ClientContext(siteurl).with_credentials(user_credentials)"
   ]
  },
  {
   "cell_type": "code",
   "execution_count": 14,
   "id": "64e216dd",
   "metadata": {},
   "outputs": [],
   "source": [
    "web = ctx.web\n",
    "ctx.load(web)\n",
    "ctx.execute_query()"
   ]
  },
  {
   "cell_type": "code",
   "execution_count": 16,
   "id": "9bc75b05",
   "metadata": {},
   "outputs": [
    {
     "data": {
      "text/plain": [
       "{}"
      ]
     },
     "execution_count": 16,
     "metadata": {},
     "output_type": "execute_result"
    }
   ],
   "source": []
  },
  {
   "cell_type": "code",
   "execution_count": 15,
   "id": "a737182a",
   "metadata": {},
   "outputs": [
    {
     "ename": "KeyError",
     "evalue": "'Title'",
     "output_type": "error",
     "traceback": [
      "\u001b[1;31m---------------------------------------------------------------------------\u001b[0m",
      "\u001b[1;31mKeyError\u001b[0m                                  Traceback (most recent call last)",
      "\u001b[1;32m~\\AppData\\Local\\Temp\\ipykernel_24068\\3887894731.py\u001b[0m in \u001b[0;36m<module>\u001b[1;34m\u001b[0m\n\u001b[1;32m----> 1\u001b[1;33m \u001b[0mprint\u001b[0m\u001b[1;33m(\u001b[0m\u001b[1;34m\"Web title: {0}\"\u001b[0m\u001b[1;33m.\u001b[0m\u001b[0mformat\u001b[0m\u001b[1;33m(\u001b[0m\u001b[0mweb\u001b[0m\u001b[1;33m.\u001b[0m\u001b[0mproperties\u001b[0m\u001b[1;33m[\u001b[0m\u001b[1;34m'Title'\u001b[0m\u001b[1;33m]\u001b[0m\u001b[1;33m)\u001b[0m\u001b[1;33m)\u001b[0m\u001b[1;33m\u001b[0m\u001b[1;33m\u001b[0m\u001b[0m\n\u001b[0m",
      "\u001b[1;31mKeyError\u001b[0m: 'Title'"
     ]
    }
   ],
   "source": [
    "print(\"Web title: {0}\".format(web.properties['Title']))"
   ]
  },
  {
   "cell_type": "code",
   "execution_count": null,
   "id": "cafe47fe",
   "metadata": {},
   "outputs": [],
   "source": []
  }
 ],
 "metadata": {
  "kernelspec": {
   "display_name": "Python 3 (ipykernel)",
   "language": "python",
   "name": "python3"
  },
  "language_info": {
   "codemirror_mode": {
    "name": "ipython",
    "version": 3
   },
   "file_extension": ".py",
   "mimetype": "text/x-python",
   "name": "python",
   "nbconvert_exporter": "python",
   "pygments_lexer": "ipython3",
   "version": "3.9.13"
  }
 },
 "nbformat": 4,
 "nbformat_minor": 5
}
