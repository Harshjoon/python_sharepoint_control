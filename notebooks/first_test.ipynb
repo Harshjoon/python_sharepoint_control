{
 "cells": [
  {
   "cell_type": "code",
   "execution_count": 6,
   "id": "5ec21687",
   "metadata": {},
   "outputs": [],
   "source": [
    "from office365.runtime.auth.client_credential import ClientCredential\n",
    "from office365.sharepoint.client_context import ClientCredential\n",
    "\n",
    "from office365.runtime.auth.user_credential import UserCredential\n",
    "from office365.sharepoint.client_context import ClientContext"
   ]
  },
  {
   "cell_type": "code",
   "execution_count": 7,
   "id": "3f9b1ee1",
   "metadata": {},
   "outputs": [],
   "source": [
    "def get_sharepoint_context_using_user():\n",
    "    sharepoint_url = 'some url'\n",
    "    \n",
    "    user_credentials = UserCredential('email', password)\n",
    "    \n",
    "    ctx = ClientContext(sharepoint_url).with_credentials(user_credentials)\n",
    "    \n",
    "    return ctx"
   ]
  },
  {
   "cell_type": "code",
   "execution_count": 19,
   "id": "6dcf4dc9",
   "metadata": {},
   "outputs": [],
   "source": [
    "# create sharepoint directory\n",
    "def create_sharepoint_directory(dir_name: str):\n",
    "    if dir_name:\n",
    "        ctx = get_sharepoint_context_using_user()\n",
    "        \n",
    "        result = ctx.web.folders.add(f'/some path/{dir_name}').execute_query()\n",
    "        \n",
    "        if result:\n",
    "            relative_url = f'Shared Documents/{dir_name}'\n",
    "            return relative_url\n"
   ]
  },
  {
   "cell_type": "code",
   "execution_count": 1,
   "id": "165175a0",
   "metadata": {},
   "outputs": [],
   "source": [
    "#create_sharepoint_directory(\"test directory\")"
   ]
  },
  {
   "cell_type": "code",
   "execution_count": 24,
   "id": "a4b4fa86",
   "metadata": {},
   "outputs": [],
   "source": [
    "import os\n",
    "from office365.runtime.auth.authentication_context import AuthenticationContext\n",
    "from office365.sharepoint.client_context import ClientContext"
   ]
  },
  {
   "cell_type": "code",
   "execution_count": 22,
   "id": "8269b7a9",
   "metadata": {},
   "outputs": [],
   "source": [
    "baseurl  = 'some url'\n",
    "basesite = 'some path'\n",
    "\n",
    "siteurl  = baseurl + basesite"
   ]
  },
  {
   "cell_type": "code",
   "execution_count": 23,
   "id": "41d1439c",
   "metadata": {},
   "outputs": [],
   "source": [
    "remote_path = \"Shared Documents\""
   ]
  },
  {
   "cell_type": "code",
   "execution_count": 25,
   "id": "d0886b88",
   "metadata": {},
   "outputs": [],
   "source": [
    "ctx_auth = AuthenticationContext(siteurl)"
   ]
  },
  {
   "cell_type": "code",
   "execution_count": 27,
   "id": "c85d216e",
   "metadata": {},
   "outputs": [
    {
     "data": {
      "text/plain": [
       "<office365.runtime.auth.authentication_context.AuthenticationContext at 0x1d22ae9b4f0>"
      ]
     },
     "execution_count": 27,
     "metadata": {},
     "output_type": "execute_result"
    }
   ],
   "source": [
    "ctx_auth.acquire_token_for_user('email', password)"
   ]
  },
  {
   "cell_type": "code",
   "execution_count": 28,
   "id": "5706b4a9",
   "metadata": {},
   "outputs": [],
   "source": [
    "ctx = ClientContext(siteurl, ctx_auth)"
   ]
  },
  {
   "cell_type": "code",
   "execution_count": null,
   "id": "7dbbc962",
   "metadata": {},
   "outputs": [],
   "source": []
  },
  {
   "cell_type": "code",
   "execution_count": null,
   "id": "ac81ceab",
   "metadata": {},
   "outputs": [],
   "source": []
  }
 ],
 "metadata": {
  "kernelspec": {
   "display_name": "Python 3 (ipykernel)",
   "language": "python",
   "name": "python3"
  },
  "language_info": {
   "codemirror_mode": {
    "name": "ipython",
    "version": 3
   },
   "file_extension": ".py",
   "mimetype": "text/x-python",
   "name": "python",
   "nbconvert_exporter": "python",
   "pygments_lexer": "ipython3",
   "version": "3.9.13"
  }
 },
 "nbformat": 4,
 "nbformat_minor": 5
}
