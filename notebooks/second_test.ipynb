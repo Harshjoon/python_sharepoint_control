{
 "cells": [
  {
   "cell_type": "code",
   "execution_count": 2,
   "id": "6aee5925",
   "metadata": {},
   "outputs": [],
   "source": [
    "from office365.runtime.auth.client_credential import ClientCredential\n",
    "from office365.sharepoint.client_context import ClientCredential\n",
    "\n",
    "from office365.runtime.auth.user_credential import UserCredential\n",
    "from office365.sharepoint.client_context import ClientContext\n",
    "import os\n",
    "from office365.runtime.auth.authentication_context import AuthenticationContext\n",
    "from office365.sharepoint.client_context import ClientContext"
   ]
  },
  {
   "cell_type": "code",
   "execution_count": 5,
   "id": "1709bc3f",
   "metadata": {},
   "outputs": [],
   "source": [
    "user_credentials = UserCredential('harsh.joon@ssinnovations.org', pass_)"
   ]
  },
  {
   "cell_type": "code",
   "execution_count": 23,
   "id": "0f10c53f",
   "metadata": {},
   "outputs": [],
   "source": [
    "#siteurl = 'https://ssipvtltd.sharepoint.com/sites/SSiFilesSharingPortal/SitePages/SSi-Share-Point-Home.aspx'\n",
    "#siteurl = 'https://ssipvtltd.sharepoint.com'\n",
    "siteurl = 'https://ssipvtltd.sharepoint.com/sites/SSiFilesSharingPortal/'"
   ]
  },
  {
   "cell_type": "code",
   "execution_count": 24,
   "id": "984b2a72",
   "metadata": {},
   "outputs": [],
   "source": [
    "ctx = ClientContext(siteurl).with_credentials(user_credentials)"
   ]
  },
  {
   "cell_type": "code",
   "execution_count": 25,
   "id": "01993a64",
   "metadata": {},
   "outputs": [],
   "source": [
    "web = ctx.web\n",
    "ctx.load(web)\n",
    "ctx.execute_query()"
   ]
  },
  {
   "cell_type": "code",
   "execution_count": 27,
   "id": "ad43d809",
   "metadata": {},
   "outputs": [],
   "source": [
    "#web.properties"
   ]
  },
  {
   "cell_type": "code",
   "execution_count": 28,
   "id": "ecbe2c6d",
   "metadata": {},
   "outputs": [
    {
     "name": "stdout",
     "output_type": "stream",
     "text": [
      "Web title: SSi Share Point\n"
     ]
    }
   ],
   "source": [
    "print(\"Web title: {0}\".format(web.properties['Title']))"
   ]
  },
  {
   "cell_type": "markdown",
   "id": "39ef2c4b",
   "metadata": {},
   "source": [
    "# Download file"
   ]
  },
  {
   "cell_type": "code",
   "execution_count": 29,
   "id": "c898ca56",
   "metadata": {},
   "outputs": [
    {
     "data": {
      "text/plain": [
       "<office365.sharepoint.folders.folder.Folder at 0x16db9019b20>"
      ]
     },
     "execution_count": 29,
     "metadata": {},
     "output_type": "execute_result"
    }
   ],
   "source": [
    "ctx.web.folders.add(f'Shared Documents/test_dir').execute_query()"
   ]
  },
  {
   "cell_type": "code",
   "execution_count": null,
   "id": "3a5ba70b",
   "metadata": {},
   "outputs": [],
   "source": []
  }
 ],
 "metadata": {
  "kernelspec": {
   "display_name": "Python 3 (ipykernel)",
   "language": "python",
   "name": "python3"
  },
  "language_info": {
   "codemirror_mode": {
    "name": "ipython",
    "version": 3
   },
   "file_extension": ".py",
   "mimetype": "text/x-python",
   "name": "python",
   "nbconvert_exporter": "python",
   "pygments_lexer": "ipython3",
   "version": "3.9.13"
  }
 },
 "nbformat": 4,
 "nbformat_minor": 5
}
